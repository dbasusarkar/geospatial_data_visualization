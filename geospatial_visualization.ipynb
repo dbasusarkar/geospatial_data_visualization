{
 "cells": [
  {
   "cell_type": "markdown",
   "id": "fc625f38",
   "metadata": {},
   "source": [
    "## Task 1: Import Libraries"
   ]
  },
  {
   "cell_type": "code",
   "execution_count": null,
   "id": "063ef3e7",
   "metadata": {},
   "outputs": [],
   "source": []
  },
  {
   "cell_type": "markdown",
   "id": "1edff04d",
   "metadata": {},
   "source": [
    "## Task 2: Create Basic Maps"
   ]
  },
  {
   "cell_type": "markdown",
   "id": "c972e91b",
   "metadata": {},
   "source": [
    "### 2a: Read the Dataset "
   ]
  },
  {
   "cell_type": "code",
   "execution_count": null,
   "id": "e6ecdf37",
   "metadata": {
    "scrolled": true
   },
   "outputs": [],
   "source": []
  },
  {
   "cell_type": "markdown",
   "id": "d3fe8cc3",
   "metadata": {},
   "source": [
    "### 2b: Create boundary plot "
   ]
  },
  {
   "cell_type": "code",
   "execution_count": null,
   "id": "e742d2d0",
   "metadata": {},
   "outputs": [],
   "source": []
  },
  {
   "cell_type": "markdown",
   "id": "545d6bcb",
   "metadata": {},
   "source": [
    "### 2c: Create basic plot "
   ]
  },
  {
   "cell_type": "code",
   "execution_count": null,
   "id": "08b5e17a",
   "metadata": {},
   "outputs": [],
   "source": []
  },
  {
   "cell_type": "markdown",
   "id": "e1885fe9",
   "metadata": {},
   "source": [
    "### 2d: Create stacked plot "
   ]
  },
  {
   "cell_type": "code",
   "execution_count": null,
   "id": "cff81883",
   "metadata": {},
   "outputs": [],
   "source": []
  },
  {
   "cell_type": "markdown",
   "id": "73b883df",
   "metadata": {},
   "source": [
    "## Task 3: Calculate Geometries"
   ]
  },
  {
   "cell_type": "code",
   "execution_count": null,
   "id": "79c56e11",
   "metadata": {},
   "outputs": [],
   "source": []
  },
  {
   "cell_type": "markdown",
   "id": "df5c733d",
   "metadata": {},
   "source": [
    "## Task 4: Create World Population Map"
   ]
  },
  {
   "cell_type": "code",
   "execution_count": null,
   "id": "6fe5225f",
   "metadata": {},
   "outputs": [],
   "source": []
  },
  {
   "cell_type": "markdown",
   "id": "fba15138",
   "metadata": {},
   "source": [
    "## Task 5: Plot US State Areas"
   ]
  },
  {
   "cell_type": "markdown",
   "id": "10edc2cb",
   "metadata": {},
   "source": [
    "### 5a: Read the file and filter the non continental states"
   ]
  },
  {
   "cell_type": "code",
   "execution_count": null,
   "id": "c873a7d8",
   "metadata": {},
   "outputs": [],
   "source": [
    "states = gpd.read_file('/usercode/cb_2022_us_state_20m/cb_2022_us_state_20m.shp')\n",
    "states = states.to_crs(\"EPSG:3395\")\n",
    "filtered_rows = states[(states['NAME'] == 'Puerto Rico') | (states['NAME'] == 'Hawaii') | (states['NAME'] == 'Alaska') ].index\n",
    "states.drop(filtered_rows , inplace=True)"
   ]
  },
  {
   "cell_type": "markdown",
   "id": "f4c23825",
   "metadata": {},
   "source": [
    "### 5b: Plot the area"
   ]
  },
  {
   "cell_type": "code",
   "execution_count": null,
   "id": "16eaad83",
   "metadata": {
    "scrolled": false
   },
   "outputs": [],
   "source": []
  },
  {
   "cell_type": "markdown",
   "id": "6b9dac87",
   "metadata": {},
   "source": [
    "### 5c: Write area on state "
   ]
  },
  {
   "cell_type": "code",
   "execution_count": null,
   "id": "47e07744",
   "metadata": {},
   "outputs": [],
   "source": []
  },
  {
   "cell_type": "markdown",
   "id": "416cb0f3",
   "metadata": {},
   "source": [
    "## Task 6: Create Interactive Map of Tornadoes in US States"
   ]
  },
  {
   "cell_type": "markdown",
   "id": "9cb05790",
   "metadata": {},
   "source": [
    "### 6a: Read and clean the dataset"
   ]
  },
  {
   "cell_type": "code",
   "execution_count": null,
   "id": "8f1bc190",
   "metadata": {},
   "outputs": [],
   "source": [
    "tornadoes = gpd.read_file('/usercode/1950-2022-torn-aspath/1950-2022-torn-aspath.shp')\n",
    "tornadoes_dir = tornadoes[['yr', 'date', 'time', 'st', 'inj', 'fat', 'loss', 'geometry']]\n",
    "tornadoes_dir = tornadoes_dir.rename({'yr': 'Year', 'st': 'State', 'inj': 'Injuries', 'fat': 'Fatalities', 'loss': 'Estimated Loss'}, axis=1)  # new method\n",
    "torn_2022 = tornadoes_dir[tornadoes_dir['Year'] == 2022]\n",
    "torn_2021 = tornadoes_dir[tornadoes_dir['Year'] == 2021]"
   ]
  },
  {
   "cell_type": "markdown",
   "id": "a904a396",
   "metadata": {},
   "source": [
    "### 6b: Create interactive map"
   ]
  },
  {
   "cell_type": "code",
   "execution_count": null,
   "id": "220011d1",
   "metadata": {},
   "outputs": [],
   "source": []
  },
  {
   "cell_type": "markdown",
   "id": "6a14a40f",
   "metadata": {},
   "source": [
    "## Task 7: Create Basic Plots in Geoplot"
   ]
  },
  {
   "cell_type": "markdown",
   "id": "a95559f4",
   "metadata": {},
   "source": [
    "### 7a: Read the dataset and remove the non continental states"
   ]
  },
  {
   "cell_type": "code",
   "execution_count": null,
   "id": "7b08c511",
   "metadata": {},
   "outputs": [],
   "source": []
  },
  {
   "cell_type": "markdown",
   "id": "7327e904",
   "metadata": {},
   "source": [
    "### 7b: Polyplot"
   ]
  },
  {
   "cell_type": "code",
   "execution_count": null,
   "id": "6de416d9",
   "metadata": {},
   "outputs": [],
   "source": []
  },
  {
   "cell_type": "markdown",
   "id": "22ea9774",
   "metadata": {},
   "source": [
    "### 7c: pointplot"
   ]
  },
  {
   "cell_type": "code",
   "execution_count": null,
   "id": "008dc235",
   "metadata": {},
   "outputs": [],
   "source": []
  },
  {
   "cell_type": "markdown",
   "id": "4845fdee",
   "metadata": {},
   "source": [
    "### 7d: Stacked plots "
   ]
  },
  {
   "cell_type": "code",
   "execution_count": null,
   "id": "1225eb8b",
   "metadata": {},
   "outputs": [],
   "source": []
  },
  {
   "cell_type": "markdown",
   "id": "94930bd6",
   "metadata": {},
   "source": [
    "## Task 8: Map Projection"
   ]
  },
  {
   "cell_type": "code",
   "execution_count": null,
   "id": "5f2163bc",
   "metadata": {},
   "outputs": [],
   "source": []
  },
  {
   "cell_type": "markdown",
   "id": "e39e5cb3",
   "metadata": {},
   "source": [
    "## Task 9: Choropleth Map of US Population"
   ]
  },
  {
   "cell_type": "code",
   "execution_count": null,
   "id": "faf921e0",
   "metadata": {},
   "outputs": [],
   "source": []
  },
  {
   "cell_type": "markdown",
   "id": "76c107a7",
   "metadata": {},
   "source": [
    "## Task 10: Create basic Map Using Contextily Place and Providers"
   ]
  },
  {
   "cell_type": "markdown",
   "id": "74d43702",
   "metadata": {},
   "source": [
    "### 10a: Basic map "
   ]
  },
  {
   "cell_type": "code",
   "execution_count": null,
   "id": "38772d60",
   "metadata": {
    "scrolled": true
   },
   "outputs": [],
   "source": []
  },
  {
   "cell_type": "markdown",
   "id": "83c4744f",
   "metadata": {},
   "source": [
    "### 10b: Basic map with base layer "
   ]
  },
  {
   "cell_type": "code",
   "execution_count": null,
   "id": "161ed763",
   "metadata": {},
   "outputs": [],
   "source": []
  },
  {
   "cell_type": "markdown",
   "id": "9b1212d9",
   "metadata": {},
   "source": [
    "## Task 11: Create Stacked Maps Using Geopandas and Contextily"
   ]
  },
  {
   "cell_type": "code",
   "execution_count": null,
   "id": "be62686c",
   "metadata": {},
   "outputs": [],
   "source": []
  },
  {
   "cell_type": "markdown",
   "id": "7b90719b",
   "metadata": {},
   "source": [
    "## Task 12: Add multiple layers to the map"
   ]
  },
  {
   "cell_type": "code",
   "execution_count": null,
   "id": "ea4e810e",
   "metadata": {},
   "outputs": [],
   "source": []
  },
  {
   "cell_type": "markdown",
   "id": "319f43d0",
   "metadata": {},
   "source": [
    "## Task 13: Create Webmaps for Data Visualization"
   ]
  },
  {
   "cell_type": "code",
   "execution_count": null,
   "id": "d2446612",
   "metadata": {},
   "outputs": [],
   "source": []
  },
  {
   "cell_type": "markdown",
   "id": "718e5c2b",
   "metadata": {},
   "source": [
    "## Task 14: KDE Map of San Francisco trees"
   ]
  },
  {
   "cell_type": "code",
   "execution_count": null,
   "id": "2c649dd8",
   "metadata": {},
   "outputs": [],
   "source": []
  },
  {
   "cell_type": "markdown",
   "id": "77979aa7",
   "metadata": {},
   "source": [
    "## Task 15: Cartogram of New York City population"
   ]
  },
  {
   "cell_type": "code",
   "execution_count": null,
   "id": "b91c34bd",
   "metadata": {},
   "outputs": [],
   "source": []
  }
 ],
 "metadata": {
  "kernelspec": {
   "display_name": "base",
   "language": "python",
   "name": "python3"
  },
  "language_info": {
   "codemirror_mode": {
    "name": "ipython",
    "version": 3
   },
   "file_extension": ".py",
   "mimetype": "text/x-python",
   "name": "python",
   "nbconvert_exporter": "python",
   "pygments_lexer": "ipython3",
   "version": "3.10.11"
  },
  "vscode": {
   "interpreter": {
    "hash": "d4d1e4263499bec80672ea0156c357c1ee493ec2b1c70f0acce89fc37c4a6abe"
   }
  }
 },
 "nbformat": 4,
 "nbformat_minor": 5
}
